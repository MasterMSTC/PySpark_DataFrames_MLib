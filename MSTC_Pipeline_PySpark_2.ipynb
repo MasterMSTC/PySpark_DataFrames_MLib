{
 "cells": [
  {
   "cell_type": "markdown",
   "metadata": {},
   "source": [
    "# <font color=  #FF5733> Let's start building a PIPELINE using the elements in<br>\n",
    "## <font color=  #FA5733> MSTC_Pipeline_PySpark_1.ipynb"
   ]
  },
  {
   "cell_type": "markdown",
   "metadata": {},
   "source": [
    "## Importing Churn Data\n",
    "\n",
    "###  Load churn-bigml-80.csv into a DataFrame"
   ]
  },
  {
   "cell_type": "code",
   "execution_count": 1,
   "metadata": {
    "collapsed": false
   },
   "outputs": [],
   "source": [
    "from pyspark.sql import SQLContext\n",
    "sqlContext = SQLContext(sc)\n",
    "\n",
    "CV_data = sqlContext.read.load('/resources/data/MSTC/churn-bigml-80.csv', \n",
    "                          format='com.databricks.spark.csv', \n",
    "                          header='true', \n",
    "                          inferSchema='true')\n"
   ]
  },
  {
   "cell_type": "markdown",
   "metadata": {},
   "source": [
    "## Spark: ML Pipelines\n",
    "https://spark.apache.org/docs/2.2.0/ml-pipeline.html\n"
   ]
  },
  {
   "cell_type": "markdown",
   "metadata": {},
   "source": [
    "##  <font color= #e38009> Transformer A: StringIndexer\n",
    "\n",
    "<font font-family: \"calibri\" size=3.5>StringIndexer converts String values that are part of a look-up into categorical indices, which could be used by machine learning algorithms in ml library.\n"
   ]
  },
  {
   "cell_type": "markdown",
   "metadata": {},
   "source": [
    "##  <font color= #e38009> Transformer B: VectorAssembler\n",
    "\n",
    "<font font-family: \"calibri\" size=3.5>...after “feature engineering” … the feature engineering results are then combined using the VectorAssembler, before being passed to ML Estimator\n",
    "\n",
    "***Notice we provide the input = list of columns (MUST BE NUMERIC!) and the output column assembles all of them in a single column/vector***"
   ]
  },
  {
   "cell_type": "markdown",
   "metadata": {
    "collapsed": false
   },
   "source": [
    "### <font color= #C70039 > list with predictors to Assemble"
   ]
  },
  {
   "cell_type": "code",
   "execution_count": 3,
   "metadata": {
    "collapsed": true
   },
   "outputs": [],
   "source": [
    "predictors=('Number vmail messages',\n",
    " 'Total day minutes',\n",
    " 'Total day calls',\n",
    " 'Total eve minutes',\n",
    " 'Total eve calls',\n",
    " 'Total night minutes',\n",
    " 'Total night calls',\n",
    " 'Total intl minutes',\n",
    " 'Total intl calls',\n",
    " 'Customer service calls')"
   ]
  },
  {
   "cell_type": "markdown",
   "metadata": {},
   "source": [
    "##  <font color=#FF5733> Estimators\n",
    "\n",
    "<font font-family: \"calibri\" size=3.5>\n",
    "An Estimator abstracts the concept of a learning algorithm or any algorithm that fits or trains on data. \n",
    "\n",
    "Technically, an Estimator implements a method fit(), which accepts a DataFrame and produces a Model, which is a Transformer. <br><br>\n",
    "***For example, a learning algorithm such as LogisticRegression is an Estimator, and calling fit() trains a LogisticRegressionModel, which is a Model and hence a Transformer.***\n"
   ]
  },
  {
   "cell_type": "code",
   "execution_count": 6,
   "metadata": {
    "collapsed": false
   },
   "outputs": [],
   "source": [
    "from pyspark.ml.feature import StringIndexer\n",
    "from pyspark.ml.feature import VectorAssembler\n",
    "from pyspark.ml.classification import DecisionTreeClassifier\n",
    "\n",
    "# Index labels, adding metadata to the label column\n",
    "stringindexer = StringIndexer(inputCol='Churn',\n",
    "                             outputCol='indexedLabel')\n",
    "\n",
    "assembler=VectorAssembler(inputCols=predictors,outputCol='features')\n",
    "\n",
    "# Train a DecisionTree model\n",
    "dTree_algorithm = DecisionTreeClassifier(maxDepth=2,\n",
    "                                        labelCol='indexedLabel', featuresCol='features')\n"
   ]
  },
  {
   "cell_type": "markdown",
   "metadata": {},
   "source": [
    "# Chain indexers and tree in a Pipeline"
   ]
  },
  {
   "cell_type": "code",
   "execution_count": 8,
   "metadata": {
    "collapsed": false
   },
   "outputs": [],
   "source": [
    "from pyspark.ml import Pipeline\n",
    "\n",
    "pipeline = Pipeline(stages=[stringindexer,\\\n",
    "                            assembler, dTree_algorithm])"
   ]
  },
  {
   "cell_type": "markdown",
   "metadata": {},
   "source": [
    "## <font color=#938882>Model Evaluation using:\n",
    "\n",
    "* Hyperparameters seection\n",
    "* Cross-validation"
   ]
  },
  {
   "cell_type": "code",
   "execution_count": 20,
   "metadata": {
    "collapsed": false
   },
   "outputs": [],
   "source": [
    "from pyspark.ml.evaluation import BinaryClassificationEvaluator\n",
    "from pyspark.ml.tuning import CrossValidator, ParamGridBuilder\n",
    "\n",
    "evaluator=BinaryClassificationEvaluator(labelCol='indexedLabel',\\\n",
    "                                        rawPredictionCol='rawPrediction',\\\n",
    "                                       metricName='areaUnderROC')\n",
    "\n",
    "\n",
    "# Search through decision tree's maxDepth parameter for best model\n",
    "paramGrid = ParamGridBuilder().addGrid(dTree_algorithm.maxDepth, [2,3,4,5,6,7]).build()\n",
    "\n",
    "# Set up 3-fold cross validation\n",
    "crossval = CrossValidator(estimator=pipeline,\n",
    "                          estimatorParamMaps=paramGrid,\n",
    "                          evaluator=evaluator,\n",
    "                          numFolds=3)"
   ]
  },
  {
   "cell_type": "code",
   "execution_count": 52,
   "metadata": {
    "collapsed": true
   },
   "outputs": [],
   "source": [
    "CrossvalModel=crossval.fit(CV_data)"
   ]
  },
  {
   "cell_type": "markdown",
   "metadata": {},
   "source": [
    "# <font face=\"calibri\" color=#d63de2> Evaluate TEST DATA "
   ]
  },
  {
   "cell_type": "markdown",
   "metadata": {},
   "source": [
    "##  <font color= #e38009> Transformer : Making predictions with the TRAINED model\n"
   ]
  },
  {
   "cell_type": "markdown",
   "metadata": {},
   "source": [
    "### <font color=red>Evaluation on TEST data"
   ]
  },
  {
   "cell_type": "code",
   "execution_count": 38,
   "metadata": {
    "collapsed": true
   },
   "outputs": [],
   "source": [
    "Test_data = sqlContext.read.load('/resources/data/MSTC/churn-bigml-20.csv', \n",
    "                          format='com.databricks.spark.csv', \n",
    "                          header='true', \n",
    "                          inferSchema='true')"
   ]
  },
  {
   "cell_type": "code",
   "execution_count": 60,
   "metadata": {
    "collapsed": false
   },
   "outputs": [
    {
     "name": "stdout",
     "output_type": "stream",
     "text": [
      "0.6771623113728378\n"
     ]
    }
   ],
   "source": [
    "# make predictions and evaluate result\n",
    "predictions_Test = CrossvalModel.transform(Test_data)\n",
    "accuracy_Test=evaluator.evaluate(predictions_Test)\n",
    "\n",
    "print(accuracy_Test)"
   ]
  },
  {
   "cell_type": "code",
   "execution_count": 64,
   "metadata": {
    "collapsed": false
   },
   "outputs": [
    {
     "name": "stdout",
     "output_type": "stream",
     "text": [
      "0.2507453073242547\n"
     ]
    }
   ],
   "source": [
    "# make predictions and evaluate result\n",
    "#pipelineModel=pipeline.fit(CV_data)\n",
    "#predictions_Test = pipelineModel.transform(Test_data)\n",
    "#accuracy_Test=evaluator.evaluate(predictions_Test)\n",
    "\n",
    "#print(accuracy_Test)"
   ]
  },
  {
   "cell_type": "markdown",
   "metadata": {},
   "source": [
    "### <font color=red>Evaluation on <font color=green> TRAIN data"
   ]
  },
  {
   "cell_type": "code",
   "execution_count": 46,
   "metadata": {
    "collapsed": false
   },
   "outputs": [
    {
     "name": "stdout",
     "output_type": "stream",
     "text": [
      "0.7119336232723587\n"
     ]
    }
   ],
   "source": [
    "# make predictions and evaluate result\n",
    "predictions_Train = CrossvalModel.transform(CV_data)\n",
    "\n",
    "accuracy_Train=evaluator.evaluate(predictions_Train)\n",
    "\n",
    "print(accuracy_Train)"
   ]
  },
  {
   "cell_type": "code",
   "execution_count": 59,
   "metadata": {
    "collapsed": false
   },
   "outputs": [
    {
     "name": "stdout",
     "output_type": "stream",
     "text": [
      "0.2793619832915471\n"
     ]
    }
   ],
   "source": [
    "#pipelineModel=pipeline.fit(CV_data)\n",
    "#predictions_Train = pipelineModel.transform(CV_data)\n",
    "#accuracy_Train=evaluator.evaluate(predictions_Train)\n",
    "\n",
    "#print(accuracy_Train)"
   ]
  },
  {
   "cell_type": "markdown",
   "metadata": {},
   "source": [
    "# <font color= #9e9b9e >..... ANALYZE BEST MODEL"
   ]
  },
  {
   "cell_type": "code",
   "execution_count": 30,
   "metadata": {
    "collapsed": false
   },
   "outputs": [
    {
     "name": "stdout",
     "output_type": "stream",
     "text": [
      "DecisionTreeClassificationModel (uid=DecisionTreeClassifier_4bf0b6a906cb9b2250b0) of depth 7 with 139 nodes\n"
     ]
    }
   ],
   "source": [
    "# Fetch best model BUT TO BE USED we need process everything NO Pipes!! see below...\n",
    "Best_tree_model = Cross_res.bestModel\n",
    "print(Best_tree_model.stages[2])"
   ]
  },
  {
   "cell_type": "code",
   "execution_count": 29,
   "metadata": {
    "collapsed": false
   },
   "outputs": [
    {
     "data": {
      "text/plain": [
       "DecisionTreeClassificationModel (uid=DecisionTreeClassifier_4bf0b6a906cb9b2250b0) of depth 7 with 139 nodes"
      ]
     },
     "execution_count": 29,
     "metadata": {},
     "output_type": "execute_result"
    }
   ],
   "source": [
    "Best_tree_model.stages[2]"
   ]
  },
  {
   "cell_type": "code",
   "execution_count": 31,
   "metadata": {
    "collapsed": false
   },
   "outputs": [
    {
     "name": "stdout",
     "output_type": "stream",
     "text": [
      "DecisionTreeClassificationModel (uid=DecisionTreeClassifier_4bf0b6a906cb9b2250b0) of depth 7 with 139 nodes\n",
      "  If (feature 1 <= 262.8)\n",
      "   If (feature 9 <= 3.0)\n",
      "    If (feature 1 <= 220.8)\n",
      "     If (feature 7 <= 13.0)\n",
      "      If (feature 8 <= 2.0)\n",
      "       If (feature 3 <= 259.6)\n",
      "        If (feature 4 <= 103.0)\n",
      "         Predict: 0.0\n",
      "        Else (feature 4 > 103.0)\n",
      "         Predict: 0.0\n",
      "       Else (feature 3 > 259.6)\n",
      "        If (feature 6 <= 77.0)\n",
      "         Predict: 1.0\n",
      "        Else (feature 6 > 77.0)\n",
      "         Predict: 0.0\n",
      "      Else (feature 8 > 2.0)\n",
      "       If (feature 3 <= 183.3)\n",
      "        If (feature 2 <= 73.0)\n",
      "         Predict: 0.0\n",
      "        Else (feature 2 > 73.0)\n",
      "         Predict: 0.0\n",
      "       Else (feature 3 > 183.3)\n",
      "        If (feature 8 <= 6.0)\n",
      "         Predict: 0.0\n",
      "        Else (feature 8 > 6.0)\n",
      "         Predict: 0.0\n",
      "     Else (feature 7 > 13.0)\n",
      "      If (feature 0 <= 38.0)\n",
      "       If (feature 8 <= 17.0)\n",
      "        If (feature 9 <= 0.0)\n",
      "         Predict: 0.0\n",
      "        Else (feature 9 > 0.0)\n",
      "         Predict: 0.0\n",
      "       Else (feature 8 > 17.0)\n",
      "        Predict: 1.0\n",
      "      Else (feature 0 > 38.0)\n",
      "       If (feature 6 <= 88.0)\n",
      "        Predict: 1.0\n",
      "       Else (feature 6 > 88.0)\n",
      "        If (feature 1 <= 175.6)\n",
      "         Predict: 0.0\n",
      "        Else (feature 1 > 175.6)\n",
      "         Predict: 1.0\n",
      "    Else (feature 1 > 220.8)\n",
      "     If (feature 3 <= 240.6)\n",
      "      If (feature 7 <= 13.8)\n",
      "       If (feature 8 <= 2.0)\n",
      "        If (feature 6 <= 129.0)\n",
      "         Predict: 0.0\n",
      "        Else (feature 6 > 129.0)\n",
      "         Predict: 1.0\n",
      "       Else (feature 8 > 2.0)\n",
      "        If (feature 5 <= 253.5)\n",
      "         Predict: 0.0\n",
      "        Else (feature 5 > 253.5)\n",
      "         Predict: 0.0\n",
      "      Else (feature 7 > 13.8)\n",
      "       If (feature 3 <= 220.8)\n",
      "        If (feature 6 <= 113.0)\n",
      "         Predict: 0.0\n",
      "        Else (feature 6 > 113.0)\n",
      "         Predict: 1.0\n",
      "       Else (feature 3 > 220.8)\n",
      "        Predict: 1.0\n",
      "     Else (feature 3 > 240.6)\n",
      "      If (feature 0 <= 0.0)\n",
      "       If (feature 5 <= 149.9)\n",
      "        If (feature 8 <= 1.0)\n",
      "         Predict: 1.0\n",
      "        Else (feature 8 > 1.0)\n",
      "         Predict: 0.0\n",
      "       Else (feature 5 > 149.9)\n",
      "        If (feature 7 <= 6.6)\n",
      "         Predict: 0.0\n",
      "        Else (feature 7 > 6.6)\n",
      "         Predict: 1.0\n",
      "      Else (feature 0 > 0.0)\n",
      "       If (feature 7 <= 15.3)\n",
      "        Predict: 0.0\n",
      "       Else (feature 7 > 15.3)\n",
      "        Predict: 1.0\n",
      "   Else (feature 9 > 3.0)\n",
      "    If (feature 1 <= 179.9)\n",
      "     If (feature 3 <= 212.1)\n",
      "      If (feature 5 <= 226.5)\n",
      "       Predict: 1.0\n",
      "      Else (feature 5 > 226.5)\n",
      "       If (feature 3 <= 183.3)\n",
      "        If (feature 1 <= 170.9)\n",
      "         Predict: 1.0\n",
      "        Else (feature 1 > 170.9)\n",
      "         Predict: 0.0\n",
      "       Else (feature 3 > 183.3)\n",
      "        Predict: 0.0\n",
      "     Else (feature 3 > 212.1)\n",
      "      If (feature 1 <= 152.9)\n",
      "       If (feature 8 <= 4.0)\n",
      "        If (feature 5 <= 278.5)\n",
      "         Predict: 1.0\n",
      "        Else (feature 5 > 278.5)\n",
      "         Predict: 0.0\n",
      "       Else (feature 8 > 4.0)\n",
      "        If (feature 1 <= 138.1)\n",
      "         Predict: 1.0\n",
      "        Else (feature 1 > 138.1)\n",
      "         Predict: 0.0\n",
      "      Else (feature 1 > 152.9)\n",
      "       Predict: 0.0\n",
      "    Else (feature 1 > 179.9)\n",
      "     If (feature 3 <= 141.9)\n",
      "      If (feature 4 <= 95.0)\n",
      "       Predict: 1.0\n",
      "      Else (feature 4 > 95.0)\n",
      "       If (feature 5 <= 155.7)\n",
      "        Predict: 1.0\n",
      "       Else (feature 5 > 155.7)\n",
      "        If (feature 6 <= 106.0)\n",
      "         Predict: 0.0\n",
      "        Else (feature 6 > 106.0)\n",
      "         Predict: 1.0\n",
      "     Else (feature 3 > 141.9)\n",
      "      If (feature 6 <= 115.0)\n",
      "       If (feature 9 <= 6.0)\n",
      "        If (feature 6 <= 82.0)\n",
      "         Predict: 0.0\n",
      "        Else (feature 6 > 82.0)\n",
      "         Predict: 0.0\n",
      "       Else (feature 9 > 6.0)\n",
      "        Predict: 1.0\n",
      "      Else (feature 6 > 115.0)\n",
      "       If (feature 2 <= 120.0)\n",
      "        If (feature 8 <= 3.0)\n",
      "         Predict: 1.0\n",
      "        Else (feature 8 > 3.0)\n",
      "         Predict: 0.0\n",
      "       Else (feature 2 > 120.0)\n",
      "        Predict: 1.0\n",
      "  Else (feature 1 > 262.8)\n",
      "   If (feature 0 <= 0.0)\n",
      "    If (feature 3 <= 187.8)\n",
      "     If (feature 1 <= 278.9)\n",
      "      If (feature 5 <= 253.5)\n",
      "       If (feature 2 <= 77.0)\n",
      "        If (feature 2 <= 69.0)\n",
      "         Predict: 0.0\n",
      "        Else (feature 2 > 69.0)\n",
      "         Predict: 1.0\n",
      "       Else (feature 2 > 77.0)\n",
      "        Predict: 0.0\n",
      "      Else (feature 5 > 253.5)\n",
      "       If (feature 3 <= 123.4)\n",
      "        Predict: 0.0\n",
      "       Else (feature 3 > 123.4)\n",
      "        Predict: 1.0\n",
      "     Else (feature 1 > 278.9)\n",
      "      If (feature 8 <= 4.0)\n",
      "       If (feature 7 <= 5.0)\n",
      "        Predict: 0.0\n",
      "       Else (feature 7 > 5.0)\n",
      "        Predict: 1.0\n",
      "      Else (feature 8 > 4.0)\n",
      "       If (feature 7 <= 10.0)\n",
      "        Predict: 0.0\n",
      "       Else (feature 7 > 10.0)\n",
      "        If (feature 4 <= 100.0)\n",
      "         Predict: 1.0\n",
      "        Else (feature 4 > 100.0)\n",
      "         Predict: 0.0\n",
      "    Else (feature 3 > 187.8)\n",
      "     If (feature 5 <= 123.0)\n",
      "      If (feature 6 <= 103.0)\n",
      "       If (feature 7 <= 8.4)\n",
      "        Predict: 0.0\n",
      "       Else (feature 7 > 8.4)\n",
      "        Predict: 1.0\n",
      "      Else (feature 6 > 103.0)\n",
      "       Predict: 0.0\n",
      "     Else (feature 5 > 123.0)\n",
      "      If (feature 6 <= 63.0)\n",
      "       If (feature 2 <= 105.0)\n",
      "        Predict: 1.0\n",
      "       Else (feature 2 > 105.0)\n",
      "        Predict: 0.0\n",
      "      Else (feature 6 > 63.0)\n",
      "       Predict: 1.0\n",
      "   Else (feature 0 > 0.0)\n",
      "    If (feature 6 <= 124.0)\n",
      "     If (feature 3 <= 252.5)\n",
      "      If (feature 8 <= 8.0)\n",
      "       Predict: 0.0\n",
      "      Else (feature 8 > 8.0)\n",
      "       If (feature 0 <= 29.0)\n",
      "        Predict: 1.0\n",
      "       Else (feature 0 > 29.0)\n",
      "        Predict: 0.0\n",
      "     Else (feature 3 > 252.5)\n",
      "      If (feature 7 <= 8.4)\n",
      "       If (feature 0 <= 26.0)\n",
      "        Predict: 0.0\n",
      "       Else (feature 0 > 26.0)\n",
      "        Predict: 1.0\n",
      "      Else (feature 7 > 8.4)\n",
      "       Predict: 0.0\n",
      "    Else (feature 6 > 124.0)\n",
      "     If (feature 0 <= 13.0)\n",
      "      Predict: 0.0\n",
      "     Else (feature 0 > 13.0)\n",
      "      Predict: 1.0\n",
      "\n"
     ]
    }
   ],
   "source": [
    "print(Cross_res.bestModel.stages[2]._call_java(\"toDebugString\"))"
   ]
  },
  {
   "cell_type": "code",
   "execution_count": null,
   "metadata": {
    "collapsed": true
   },
   "outputs": [],
   "source": []
  },
  {
   "cell_type": "code",
   "execution_count": null,
   "metadata": {
    "collapsed": true
   },
   "outputs": [],
   "source": []
  }
 ],
 "metadata": {
  "kernelspec": {
   "display_name": "Python 3",
   "language": "python",
   "name": "python3"
  },
  "language_info": {
   "codemirror_mode": {
    "name": "ipython",
    "version": 3
   },
   "file_extension": ".py",
   "mimetype": "text/x-python",
   "name": "python",
   "nbconvert_exporter": "python",
   "pygments_lexer": "ipython3",
   "version": "3.5.2"
  },
  "widgets": {
   "state": {},
   "version": "1.1.2"
  }
 },
 "nbformat": 4,
 "nbformat_minor": 0
}
